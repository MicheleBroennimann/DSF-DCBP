{
  "nbformat": 4,
  "nbformat_minor": 0,
  "metadata": {
    "colab": {
      "name": "Untitled1.ipynb",
      "provenance": [],
      "authorship_tag": "ABX9TyNmo3rjtJfpYl+pi1QwJK56",
      "include_colab_link": true
    },
    "kernelspec": {
      "name": "python3",
      "display_name": "Python 3"
    },
    "language_info": {
      "name": "python"
    }
  },
  "cells": [
    {
      "cell_type": "markdown",
      "metadata": {
        "id": "view-in-github",
        "colab_type": "text"
      },
      "source": [
        "<a href=\"https://colab.research.google.com/github/MicheleBroennimann/DSF-DCBP/blob/main/Notes.ipynb\" target=\"_parent\"><img src=\"https://colab.research.google.com/assets/colab-badge.svg\" alt=\"Open In Colab\"/></a>"
      ]
    },
    {
      "cell_type": "markdown",
      "source": [
        "# Notebook 1"
      ],
      "metadata": {
        "id": "OAHjZeSrRXlk"
      }
    },
    {
      "cell_type": "code",
      "execution_count": null,
      "metadata": {
        "id": "47ylq1PFOAJK"
      },
      "outputs": [],
      "source": [
        ""
      ]
    },
    {
      "cell_type": "code",
      "source": [
        "# Comments start with a #. They can also come after the code on the same line\n",
        "print('Hello') # Write Hello"
      ],
      "metadata": {
        "colab": {
          "base_uri": "https://localhost:8080/"
        },
        "id": "K24YxzBfOmIc",
        "outputId": "dc2573e2-4d14-4810-e80b-40b9426b61fd"
      },
      "execution_count": 1,
      "outputs": [
        {
          "output_type": "stream",
          "name": "stdout",
          "text": [
            "Hello\n"
          ]
        }
      ]
    },
    {
      "cell_type": "code",
      "source": [
        "# Multiline commands can be written with backslash \\ or ()\n",
        "sum = 2 + 3 + 5 \\\n",
        "      - 5*2\n",
        "#or\n",
        "print(sum)\n",
        "sum = (2 + 3 + 5\n",
        "      - 5*2)\n",
        "print(sum)"
      ],
      "metadata": {
        "id": "JabKvKiYOr4H"
      },
      "execution_count": null,
      "outputs": []
    },
    {
      "cell_type": "code",
      "source": [
        "# multiple statements on one line by separating with ;\n",
        "x=5; y=6; print(x-y)"
      ],
      "metadata": {
        "id": "fVICnJ6AO7XW"
      },
      "execution_count": null,
      "outputs": []
    },
    {
      "cell_type": "code",
      "source": [
        "# Codeblocks are indicated by intendation and :\n",
        "for i in range(3):\n",
        "  sum+=i\n",
        "print(sum) # Note that Python starts counting at 0"
      ],
      "metadata": {
        "id": "wlfM8yzuPEEG"
      },
      "execution_count": null,
      "outputs": []
    },
    {
      "cell_type": "markdown",
      "source": [
        "**Python Variables and objects**"
      ],
      "metadata": {
        "id": "Gql9tP7XPQLW"
      }
    },
    {
      "cell_type": "markdown",
      "source": [
        "Most important basic types are natural numbers (integer), real numbers (float), imaginary numbers and text (strings)\n"
      ],
      "metadata": {
        "id": "oHklO9YfPc0O"
      }
    },
    {
      "cell_type": "code",
      "source": [
        "my_variable = 5; print(type(my_variable))\n",
        "my_variable = 5.0; print(type(my_variable))\n"
      ],
      "metadata": {
        "colab": {
          "base_uri": "https://localhost:8080/"
        },
        "id": "0um8_oY8PhcE",
        "outputId": "c9f1aae8-54d2-4eea-c1c4-d32cb02cb558"
      },
      "execution_count": 2,
      "outputs": [
        {
          "output_type": "stream",
          "name": "stdout",
          "text": [
            "<class 'int'>\n",
            "<class 'float'>\n"
          ]
        }
      ]
    },
    {
      "cell_type": "markdown",
      "source": [
        "**Python Operators**"
      ],
      "metadata": {
        "id": "ku3CQkp1P10H"
      }
    },
    {
      "cell_type": "code",
      "source": [
        "# addition, subtraction, multiplication\n",
        "print((4 + 8) * (6.5 - 3))\n",
        "# True division\n",
        "print(11 / 2)\n",
        "# Floor division\n",
        "print(11 // 2)\n",
        "# Modulus\n",
        "print(11 % 2)\n",
        "# Exponentation\n",
        "print(4 ** 0.5)"
      ],
      "metadata": {
        "id": "ErsW6Bd3PygF"
      },
      "execution_count": null,
      "outputs": []
    },
    {
      "cell_type": "code",
      "source": [
        "print(4 == 6); print(4 != 6); print(4<6); print(4>6); print(4<=6); print(4>=6)"
      ],
      "metadata": {
        "colab": {
          "base_uri": "https://localhost:8080/"
        },
        "id": "c6t_zkGuQGK0",
        "outputId": "84e38343-1dfb-4ad4-b8d2-4efdbe018569"
      },
      "execution_count": 3,
      "outputs": [
        {
          "output_type": "stream",
          "name": "stdout",
          "text": [
            "False\n",
            "True\n",
            "True\n",
            "False\n",
            "True\n",
            "False\n"
          ]
        }
      ]
    },
    {
      "cell_type": "code",
      "source": [
        "x = 4\n",
        "print((x < 6) and (x > 2))\n",
        "print((x > 10) or (x % 2 == 0))\n",
        "print(not (x < 6))\n",
        "# (x > 1) xor (x < 10)\n",
        "print((x > 1) != (x < 10))"
      ],
      "metadata": {
        "id": "x6yC53PzQMfT"
      },
      "execution_count": null,
      "outputs": []
    },
    {
      "cell_type": "code",
      "source": [
        "print(1 is 2)\n",
        "print(1 is 1)\n",
        "print(1 in [1, 2, 3])\n",
        "print(2 not in [1, 2, 3])"
      ],
      "metadata": {
        "id": "tOElIVZDQQYe"
      },
      "execution_count": null,
      "outputs": []
    },
    {
      "cell_type": "markdown",
      "source": [
        "**Python Built-In Data Structures**"
      ],
      "metadata": {
        "id": "azy3u8SNQZXQ"
      }
    },
    {
      "cell_type": "code",
      "source": [
        "# Lists with some built-in methods\n",
        "L = [2, 3, 5, 7]\n",
        "print(len(L))\n",
        "L.append(11); print(L)\n",
        "print(L + [13, 17, 19])\n",
        "L = [2, 5, 1, 6, 3, 4]\n",
        "L.sort()\n",
        "print(L)\n",
        "L = [1, 'two', 3.14, [0, 3, 5]] # Lists can contain various objects\n",
        "print(L)\n",
        "\n",
        "# Indexing and slicing on lists\n",
        "L=[2,4,5,'madonna']\n",
        "print(L[0], L[len(L)-1], L[-1]) # Indexing\n",
        "print(L[2:4]) # Sclicing\n",
        "print(L[3:], L[:],L[0:-1:2],L[::-1]) # The third argument is the step size\n"
      ],
      "metadata": {
        "id": "MZNHmACvQbR_"
      },
      "execution_count": null,
      "outputs": []
    },
    {
      "cell_type": "code",
      "source": [
        "# Tuples are like lists, but cannot be changed once defined\n",
        "t = (2, 3, 5, 7, 11)     # \n",
        "k = 2,3,5,7,11 #also works\n",
        "t[0] = 3 # Not allowed"
      ],
      "metadata": {
        "id": "KRk4YQhKQmw9"
      },
      "execution_count": null,
      "outputs": []
    },
    {
      "cell_type": "code",
      "source": [
        "# Dictionaries are like a normal language dictionaries, there is a key word (car) for look up and a value, e.g. what is it in German (Auto).\n",
        "numbers = {'one':1, 'two':2, 'three':3}\n",
        "print(numbers['two'])\n",
        "numbers['car']='Auto'\n",
        "print(numbers)\n",
        "numbers.get('car')"
      ],
      "metadata": {
        "id": "P6BxrVwXQukM"
      },
      "execution_count": null,
      "outputs": []
    },
    {
      "cell_type": "code",
      "source": [
        "# Sets are much like tuples and you can to set mathematics with them\n",
        "primes = {2, 3, 5, 7}\n",
        "odds = {1, 3, 5, 7, 9}\n",
        "primes.union(odds)"
      ],
      "metadata": {
        "id": "QTFsTQ_YQ3Os"
      },
      "execution_count": null,
      "outputs": []
    },
    {
      "cell_type": "markdown",
      "source": [
        "**Python del statement**"
      ],
      "metadata": {
        "id": "5mGhFa6dRCt9"
      }
    },
    {
      "cell_type": "markdown",
      "source": [
        "The syntax of the del statement is:\n",
        "\n",
        "del object_name,\n",
        "\n",
        "where object_name can be variable(s), user-defined objects (also classes, attributes of classes), lists, items within lists, dictionaries etc.\n",
        "\n",
        "del removes variable names from the namespace As a result of using del one can free up for example some variable names from the namespace. This command doesn't necessarily affect the object associated to the variable name, it frees up just the pointer (so that it can be used for other purposes maybe). However in some memory intensive applications it might be also used to prepare the objects to be erased by the garbage collector of Python.\n"
      ],
      "metadata": {
        "id": "xJKSsJ4-RLny"
      }
    },
    {
      "cell_type": "markdown",
      "source": [
        "# Notebook 2\n"
      ],
      "metadata": {
        "id": "kFYGRnqcRqQc"
      }
    },
    {
      "cell_type": "code",
      "source": [
        "import pandas as pd # Pandas, which itself builds on top of Numpy, \n",
        "#is the core data science library on which higher level libraries are building\n",
        "\n",
        "import numpy as np #Numpy is the core scientific computing library on which \n",
        "#virtually all other scientific Python packages are building \n",
        "\n",
        "url = 'https://raw.githubusercontent.com/KingaS03/Introduction-to-Python/master/Homework/country_vaccinations.xls'\n",
        "vaccine = pd.read_csv(url)\n",
        "\n",
        "print(type(vaccine))\n",
        "\n",
        "print(vaccine)\n",
        "print(vaccine.head(5))"
      ],
      "metadata": {
        "colab": {
          "base_uri": "https://localhost:8080/"
        },
        "id": "0vvWh_GGRKWa",
        "outputId": "f51d2c26-baea-4e52-8998-a020c328084a"
      },
      "execution_count": 7,
      "outputs": [
        {
          "output_type": "stream",
          "name": "stdout",
          "text": [
            "<class 'pandas.core.frame.DataFrame'>\n",
            "      country iso_code        date  total_vaccinations  people_vaccinated  \\\n",
            "0     Albania      ALB  2021-01-10                 0.0                0.0   \n",
            "1     Albania      ALB  2021-01-11                 NaN                NaN   \n",
            "2     Albania      ALB  2021-01-12               128.0              128.0   \n",
            "3     Albania      ALB  2021-01-13               188.0              188.0   \n",
            "4     Albania      ALB  2021-01-14               266.0              266.0   \n",
            "...       ...      ...         ...                 ...                ...   \n",
            "3614    Wales      NaN  2021-02-15            803178.0           795927.0   \n",
            "3615    Wales      NaN  2021-02-16            820339.0           807351.0   \n",
            "3616    Wales      NaN  2021-02-17            841975.0           822633.0   \n",
            "3617    Wales      NaN  2021-02-18            864498.0           839065.0   \n",
            "3618    Wales      NaN  2021-02-19            885906.0           853904.0   \n",
            "\n",
            "      people_fully_vaccinated  daily_vaccinations_raw  daily_vaccinations  \\\n",
            "0                         NaN                     NaN                 NaN   \n",
            "1                         NaN                     NaN                64.0   \n",
            "2                         NaN                     NaN                64.0   \n",
            "3                         NaN                    60.0                63.0   \n",
            "4                         NaN                    78.0                66.0   \n",
            "...                       ...                     ...                 ...   \n",
            "3614                   7251.0                 12967.0             24418.0   \n",
            "3615                  12988.0                 17161.0             23033.0   \n",
            "3616                  19342.0                 21636.0             22012.0   \n",
            "3617                  25433.0                 22523.0             20649.0   \n",
            "3618                  32002.0                 21408.0             18891.0   \n",
            "\n",
            "      total_vaccinations_per_hundred  people_vaccinated_per_hundred  \\\n",
            "0                               0.00                           0.00   \n",
            "1                                NaN                            NaN   \n",
            "2                               0.00                           0.00   \n",
            "3                               0.01                           0.01   \n",
            "4                               0.01                           0.01   \n",
            "...                              ...                            ...   \n",
            "3614                           25.47                          25.24   \n",
            "3615                           26.02                          25.61   \n",
            "3616                           26.70                          26.09   \n",
            "3617                           27.42                          26.61   \n",
            "3618                           28.10                          27.08   \n",
            "\n",
            "      people_fully_vaccinated_per_hundred  daily_vaccinations_per_million  \\\n",
            "0                                     NaN                             NaN   \n",
            "1                                     NaN                            22.0   \n",
            "2                                     NaN                            22.0   \n",
            "3                                     NaN                            22.0   \n",
            "4                                     NaN                            23.0   \n",
            "...                                   ...                             ...   \n",
            "3614                                 0.23                          7745.0   \n",
            "3615                                 0.41                          7305.0   \n",
            "3616                                 0.61                          6982.0   \n",
            "3617                                 0.81                          6549.0   \n",
            "3618                                 1.02                          5992.0   \n",
            "\n",
            "                                 vaccines                       source_name  \\\n",
            "0                         Pfizer/BioNTech                Ministry of Health   \n",
            "1                         Pfizer/BioNTech                Ministry of Health   \n",
            "2                         Pfizer/BioNTech                Ministry of Health   \n",
            "3                         Pfizer/BioNTech                Ministry of Health   \n",
            "4                         Pfizer/BioNTech                Ministry of Health   \n",
            "...                                   ...                               ...   \n",
            "3614  Oxford/AstraZeneca, Pfizer/BioNTech  Government of the United Kingdom   \n",
            "3615  Oxford/AstraZeneca, Pfizer/BioNTech  Government of the United Kingdom   \n",
            "3616  Oxford/AstraZeneca, Pfizer/BioNTech  Government of the United Kingdom   \n",
            "3617  Oxford/AstraZeneca, Pfizer/BioNTech  Government of the United Kingdom   \n",
            "3618  Oxford/AstraZeneca, Pfizer/BioNTech  Government of the United Kingdom   \n",
            "\n",
            "                                         source_website  \n",
            "0     https://shendetesia.gov.al/covid19-ministria-e...  \n",
            "1     https://shendetesia.gov.al/covid19-ministria-e...  \n",
            "2     https://shendetesia.gov.al/covid19-ministria-e...  \n",
            "3     https://shendetesia.gov.al/covid19-ministria-e...  \n",
            "4     https://shendetesia.gov.al/covid19-ministria-e...  \n",
            "...                                                 ...  \n",
            "3614  https://coronavirus.data.gov.uk/details/health...  \n",
            "3615  https://coronavirus.data.gov.uk/details/health...  \n",
            "3616  https://coronavirus.data.gov.uk/details/health...  \n",
            "3617  https://coronavirus.data.gov.uk/details/health...  \n",
            "3618  https://coronavirus.data.gov.uk/details/health...  \n",
            "\n",
            "[3619 rows x 15 columns]\n",
            "   country iso_code        date  total_vaccinations  people_vaccinated  \\\n",
            "0  Albania      ALB  2021-01-10                 0.0                0.0   \n",
            "1  Albania      ALB  2021-01-11                 NaN                NaN   \n",
            "2  Albania      ALB  2021-01-12               128.0              128.0   \n",
            "3  Albania      ALB  2021-01-13               188.0              188.0   \n",
            "4  Albania      ALB  2021-01-14               266.0              266.0   \n",
            "\n",
            "   people_fully_vaccinated  daily_vaccinations_raw  daily_vaccinations  \\\n",
            "0                      NaN                     NaN                 NaN   \n",
            "1                      NaN                     NaN                64.0   \n",
            "2                      NaN                     NaN                64.0   \n",
            "3                      NaN                    60.0                63.0   \n",
            "4                      NaN                    78.0                66.0   \n",
            "\n",
            "   total_vaccinations_per_hundred  people_vaccinated_per_hundred  \\\n",
            "0                            0.00                           0.00   \n",
            "1                             NaN                            NaN   \n",
            "2                            0.00                           0.00   \n",
            "3                            0.01                           0.01   \n",
            "4                            0.01                           0.01   \n",
            "\n",
            "   people_fully_vaccinated_per_hundred  daily_vaccinations_per_million  \\\n",
            "0                                  NaN                             NaN   \n",
            "1                                  NaN                            22.0   \n",
            "2                                  NaN                            22.0   \n",
            "3                                  NaN                            22.0   \n",
            "4                                  NaN                            23.0   \n",
            "\n",
            "          vaccines         source_name  \\\n",
            "0  Pfizer/BioNTech  Ministry of Health   \n",
            "1  Pfizer/BioNTech  Ministry of Health   \n",
            "2  Pfizer/BioNTech  Ministry of Health   \n",
            "3  Pfizer/BioNTech  Ministry of Health   \n",
            "4  Pfizer/BioNTech  Ministry of Health   \n",
            "\n",
            "                                      source_website  \n",
            "0  https://shendetesia.gov.al/covid19-ministria-e...  \n",
            "1  https://shendetesia.gov.al/covid19-ministria-e...  \n",
            "2  https://shendetesia.gov.al/covid19-ministria-e...  \n",
            "3  https://shendetesia.gov.al/covid19-ministria-e...  \n",
            "4  https://shendetesia.gov.al/covid19-ministria-e...  \n"
          ]
        }
      ]
    },
    {
      "cell_type": "code",
      "source": [
        "my_string = 'This is a sentence with spaces.'\n",
        "my_string.split(' ')\n",
        "#methods in python\n"
      ],
      "metadata": {
        "id": "-PThjfZKSfuz"
      },
      "execution_count": null,
      "outputs": []
    },
    {
      "cell_type": "markdown",
      "source": [
        "**Exercise**\n",
        "\n",
        "1)In the Data folder on Ilias there is the data file 4ms_10 av_30 s_Absorbance_10-32-04-868.txt. Upload this file to a folder on your google drive. If you don't have a google account, make it now. Look at the file by clicking on it. Try to make sense of the data with the help of the metadata file also in the Ilias folder.\n",
        "\n",
        "2) Mount the file to this your notebook (example code below). The path and the file name must match the ones on your google drive, of course.\n",
        "\n"
      ],
      "metadata": {
        "id": "S3cjjZPGTouc"
      }
    },
    {
      "cell_type": "code",
      "source": [
        "from google.colab import drive\n",
        "drive.mount('/content/drive')\n",
        "path = '/content/drive/MyDrive/DSF FS22/Absorbance.txt' # \n",
        "\n",
        "import pandas as pd\n",
        "df = pd.read_csv(path, delimiter='\\t',header =14)\n",
        "print(df)\n"
      ],
      "metadata": {
        "colab": {
          "base_uri": "https://localhost:8080/"
        },
        "id": "i3x5dUHbTJYP",
        "outputId": "f11685cd-6c1a-4d67-fecc-8e48bcefeecb"
      },
      "execution_count": 16,
      "outputs": [
        {
          "output_type": "stream",
          "name": "stdout",
          "text": [
            "Drive already mounted at /content/drive; to attempt to forcibly remount, call drive.mount(\"/content/drive\", force_remount=True).\n",
            "     2018-10-25 10:32:04.789000  1540456324789  0.329672  0.329672.1  \\\n",
            "0    2018-10-25 10:32:04.878000  1540456324878 -0.044412   -0.044412   \n",
            "1    2018-10-25 10:32:04.962000  1540456324962  0.338219    0.338219   \n",
            "2    2018-10-25 10:32:05.046000  1540456325046 -0.049682   -0.049682   \n",
            "3    2018-10-25 10:32:05.129000  1540456325129  0.335086    0.335086   \n",
            "4    2018-10-25 10:32:05.213000  1540456325213  0.328301    0.328301   \n",
            "..                          ...            ...       ...         ...   \n",
            "349  2018-10-25 10:32:34.404000  1540456354404 -0.048929   -0.048929   \n",
            "350  2018-10-25 10:32:34.488000  1540456354488  0.851907    0.851907   \n",
            "351  2018-10-25 10:32:34.576000  1540456354576  0.329255    0.329255   \n",
            "352  2018-10-25 10:32:34.660000  1540456354660  0.330061    0.330061   \n",
            "353  2018-10-25 10:32:34.744000  1540456354744  0.101879    0.101879   \n",
            "\n",
            "     0.329672.2  0.090294  -0.716926  -1.829304  -0.68633  -0.428776  ...  \\\n",
            "0     -0.044412  0.157632  -0.672423  -2.183981 -0.492421  -0.000000  ...   \n",
            "1      0.338219  0.330993  -0.879836  -0.000000 -0.559845  -0.000000  ...   \n",
            "2     -0.049682  0.519086  -0.681150  -0.000000 -0.417230  -0.000000  ...   \n",
            "3      0.335086 -0.041393  -0.000000  -1.802774 -0.510417  -0.000000  ...   \n",
            "4      0.328301  0.104112   0.883880  -0.000000  0.440632   0.133211  ...   \n",
            "..          ...       ...        ...        ...       ...        ...  ...   \n",
            "349   -0.048929 -0.052674  -0.739370  -2.155336 -0.520450  -0.000000  ...   \n",
            "350    0.851907 -0.111298  -0.639166  -2.039414 -0.531784  -0.000000  ...   \n",
            "351    0.329255  0.064351   0.316582  -2.107210 -0.298427   0.570461  ...   \n",
            "352    0.330061  0.081473  -0.525273  -1.750123 -0.134352   0.243550  ...   \n",
            "353    0.101879  0.177809  -0.456259  -0.000000 -0.157833  -0.376095  ...   \n",
            "\n",
            "     -0.038483  -0.039623  -0.03692  -0.037309  -0.037299  -0.037476  \\\n",
            "0    -0.039428  -0.038486 -0.037309  -0.036357  -0.037289  -0.038728   \n",
            "1    -0.037725  -0.037534 -0.036560  -0.036152  -0.036554  -0.036875   \n",
            "2    -0.037613  -0.037168 -0.036369  -0.034549  -0.036252  -0.037948   \n",
            "3    -0.040919  -0.038288 -0.035840  -0.035638  -0.039504  -0.040093   \n",
            "4    -0.038649  -0.037998 -0.036509  -0.035064  -0.036905  -0.035263   \n",
            "..         ...        ...       ...        ...        ...        ...   \n",
            "349  -0.038112  -0.036615 -0.035938  -0.034245  -0.035340  -0.037055   \n",
            "350  -0.036887  -0.036921 -0.035249  -0.033394  -0.035231  -0.035815   \n",
            "351  -0.037311  -0.036231 -0.037977  -0.033525  -0.035225  -0.036255   \n",
            "352  -0.036267  -0.036341 -0.037307  -0.035010  -0.036073  -0.036282   \n",
            "353  -0.037316  -0.035830 -0.036852  -0.034170  -0.034227  -0.035085   \n",
            "\n",
            "     -0.036856  -0.036853   -0.0391  -0.035545  \n",
            "0    -0.037214  -0.036902 -0.040210  -0.038165  \n",
            "1    -0.037351  -0.036746 -0.038686  -0.036903  \n",
            "2    -0.036713  -0.035706 -0.038203  -0.036822  \n",
            "3    -0.039953  -0.037656 -0.038082  -0.035900  \n",
            "4    -0.038798  -0.038993 -0.037434  -0.035509  \n",
            "..         ...        ...       ...        ...  \n",
            "349  -0.035771  -0.036557 -0.037451  -0.033582  \n",
            "350  -0.037457  -0.035020 -0.038338  -0.035408  \n",
            "351  -0.036670  -0.036079 -0.038006  -0.035039  \n",
            "352  -0.036911  -0.036554 -0.037560  -0.034496  \n",
            "353  -0.035308  -0.034768 -0.036334  -0.034725  \n",
            "\n",
            "[354 rows x 3650 columns]\n"
          ]
        }
      ]
    },
    {
      "cell_type": "code",
      "source": [
        "df.head()"
      ],
      "metadata": {
        "colab": {
          "base_uri": "https://localhost:8080/",
          "height": 403
        },
        "id": "bA96tloZVQde",
        "outputId": "901cb500-ace6-4231-c6dd-362df5cf5aeb"
      },
      "execution_count": 21,
      "outputs": [
        {
          "output_type": "execute_result",
          "data": {
            "text/plain": [
              "   2018-10-25 10:32:04.789000  1540456324789  0.329672  0.329672.1  \\\n",
              "0  2018-10-25 10:32:04.878000  1540456324878 -0.044412   -0.044412   \n",
              "1  2018-10-25 10:32:04.962000  1540456324962  0.338219    0.338219   \n",
              "2  2018-10-25 10:32:05.046000  1540456325046 -0.049682   -0.049682   \n",
              "3  2018-10-25 10:32:05.129000  1540456325129  0.335086    0.335086   \n",
              "4  2018-10-25 10:32:05.213000  1540456325213  0.328301    0.328301   \n",
              "\n",
              "   0.329672.2  0.090294  -0.716926  -1.829304  -0.68633  -0.428776  ...  \\\n",
              "0   -0.044412  0.157632  -0.672423  -2.183981 -0.492421  -0.000000  ...   \n",
              "1    0.338219  0.330993  -0.879836  -0.000000 -0.559845  -0.000000  ...   \n",
              "2   -0.049682  0.519086  -0.681150  -0.000000 -0.417230  -0.000000  ...   \n",
              "3    0.335086 -0.041393  -0.000000  -1.802774 -0.510417  -0.000000  ...   \n",
              "4    0.328301  0.104112   0.883880  -0.000000  0.440632   0.133211  ...   \n",
              "\n",
              "   -0.038483  -0.039623  -0.03692  -0.037309  -0.037299  -0.037476  -0.036856  \\\n",
              "0  -0.039428  -0.038486 -0.037309  -0.036357  -0.037289  -0.038728  -0.037214   \n",
              "1  -0.037725  -0.037534 -0.036560  -0.036152  -0.036554  -0.036875  -0.037351   \n",
              "2  -0.037613  -0.037168 -0.036369  -0.034549  -0.036252  -0.037948  -0.036713   \n",
              "3  -0.040919  -0.038288 -0.035840  -0.035638  -0.039504  -0.040093  -0.039953   \n",
              "4  -0.038649  -0.037998 -0.036509  -0.035064  -0.036905  -0.035263  -0.038798   \n",
              "\n",
              "   -0.036853   -0.0391  -0.035545  \n",
              "0  -0.036902 -0.040210  -0.038165  \n",
              "1  -0.036746 -0.038686  -0.036903  \n",
              "2  -0.035706 -0.038203  -0.036822  \n",
              "3  -0.037656 -0.038082  -0.035900  \n",
              "4  -0.038993 -0.037434  -0.035509  \n",
              "\n",
              "[5 rows x 3650 columns]"
            ],
            "text/html": [
              "\n",
              "  <div id=\"df-9367887c-dc87-4907-930a-bc5c4ab6643e\">\n",
              "    <div class=\"colab-df-container\">\n",
              "      <div>\n",
              "<style scoped>\n",
              "    .dataframe tbody tr th:only-of-type {\n",
              "        vertical-align: middle;\n",
              "    }\n",
              "\n",
              "    .dataframe tbody tr th {\n",
              "        vertical-align: top;\n",
              "    }\n",
              "\n",
              "    .dataframe thead th {\n",
              "        text-align: right;\n",
              "    }\n",
              "</style>\n",
              "<table border=\"1\" class=\"dataframe\">\n",
              "  <thead>\n",
              "    <tr style=\"text-align: right;\">\n",
              "      <th></th>\n",
              "      <th>2018-10-25 10:32:04.789000</th>\n",
              "      <th>1540456324789</th>\n",
              "      <th>0.329672</th>\n",
              "      <th>0.329672.1</th>\n",
              "      <th>0.329672.2</th>\n",
              "      <th>0.090294</th>\n",
              "      <th>-0.716926</th>\n",
              "      <th>-1.829304</th>\n",
              "      <th>-0.68633</th>\n",
              "      <th>-0.428776</th>\n",
              "      <th>...</th>\n",
              "      <th>-0.038483</th>\n",
              "      <th>-0.039623</th>\n",
              "      <th>-0.03692</th>\n",
              "      <th>-0.037309</th>\n",
              "      <th>-0.037299</th>\n",
              "      <th>-0.037476</th>\n",
              "      <th>-0.036856</th>\n",
              "      <th>-0.036853</th>\n",
              "      <th>-0.0391</th>\n",
              "      <th>-0.035545</th>\n",
              "    </tr>\n",
              "  </thead>\n",
              "  <tbody>\n",
              "    <tr>\n",
              "      <th>0</th>\n",
              "      <td>2018-10-25 10:32:04.878000</td>\n",
              "      <td>1540456324878</td>\n",
              "      <td>-0.044412</td>\n",
              "      <td>-0.044412</td>\n",
              "      <td>-0.044412</td>\n",
              "      <td>0.157632</td>\n",
              "      <td>-0.672423</td>\n",
              "      <td>-2.183981</td>\n",
              "      <td>-0.492421</td>\n",
              "      <td>-0.000000</td>\n",
              "      <td>...</td>\n",
              "      <td>-0.039428</td>\n",
              "      <td>-0.038486</td>\n",
              "      <td>-0.037309</td>\n",
              "      <td>-0.036357</td>\n",
              "      <td>-0.037289</td>\n",
              "      <td>-0.038728</td>\n",
              "      <td>-0.037214</td>\n",
              "      <td>-0.036902</td>\n",
              "      <td>-0.040210</td>\n",
              "      <td>-0.038165</td>\n",
              "    </tr>\n",
              "    <tr>\n",
              "      <th>1</th>\n",
              "      <td>2018-10-25 10:32:04.962000</td>\n",
              "      <td>1540456324962</td>\n",
              "      <td>0.338219</td>\n",
              "      <td>0.338219</td>\n",
              "      <td>0.338219</td>\n",
              "      <td>0.330993</td>\n",
              "      <td>-0.879836</td>\n",
              "      <td>-0.000000</td>\n",
              "      <td>-0.559845</td>\n",
              "      <td>-0.000000</td>\n",
              "      <td>...</td>\n",
              "      <td>-0.037725</td>\n",
              "      <td>-0.037534</td>\n",
              "      <td>-0.036560</td>\n",
              "      <td>-0.036152</td>\n",
              "      <td>-0.036554</td>\n",
              "      <td>-0.036875</td>\n",
              "      <td>-0.037351</td>\n",
              "      <td>-0.036746</td>\n",
              "      <td>-0.038686</td>\n",
              "      <td>-0.036903</td>\n",
              "    </tr>\n",
              "    <tr>\n",
              "      <th>2</th>\n",
              "      <td>2018-10-25 10:32:05.046000</td>\n",
              "      <td>1540456325046</td>\n",
              "      <td>-0.049682</td>\n",
              "      <td>-0.049682</td>\n",
              "      <td>-0.049682</td>\n",
              "      <td>0.519086</td>\n",
              "      <td>-0.681150</td>\n",
              "      <td>-0.000000</td>\n",
              "      <td>-0.417230</td>\n",
              "      <td>-0.000000</td>\n",
              "      <td>...</td>\n",
              "      <td>-0.037613</td>\n",
              "      <td>-0.037168</td>\n",
              "      <td>-0.036369</td>\n",
              "      <td>-0.034549</td>\n",
              "      <td>-0.036252</td>\n",
              "      <td>-0.037948</td>\n",
              "      <td>-0.036713</td>\n",
              "      <td>-0.035706</td>\n",
              "      <td>-0.038203</td>\n",
              "      <td>-0.036822</td>\n",
              "    </tr>\n",
              "    <tr>\n",
              "      <th>3</th>\n",
              "      <td>2018-10-25 10:32:05.129000</td>\n",
              "      <td>1540456325129</td>\n",
              "      <td>0.335086</td>\n",
              "      <td>0.335086</td>\n",
              "      <td>0.335086</td>\n",
              "      <td>-0.041393</td>\n",
              "      <td>-0.000000</td>\n",
              "      <td>-1.802774</td>\n",
              "      <td>-0.510417</td>\n",
              "      <td>-0.000000</td>\n",
              "      <td>...</td>\n",
              "      <td>-0.040919</td>\n",
              "      <td>-0.038288</td>\n",
              "      <td>-0.035840</td>\n",
              "      <td>-0.035638</td>\n",
              "      <td>-0.039504</td>\n",
              "      <td>-0.040093</td>\n",
              "      <td>-0.039953</td>\n",
              "      <td>-0.037656</td>\n",
              "      <td>-0.038082</td>\n",
              "      <td>-0.035900</td>\n",
              "    </tr>\n",
              "    <tr>\n",
              "      <th>4</th>\n",
              "      <td>2018-10-25 10:32:05.213000</td>\n",
              "      <td>1540456325213</td>\n",
              "      <td>0.328301</td>\n",
              "      <td>0.328301</td>\n",
              "      <td>0.328301</td>\n",
              "      <td>0.104112</td>\n",
              "      <td>0.883880</td>\n",
              "      <td>-0.000000</td>\n",
              "      <td>0.440632</td>\n",
              "      <td>0.133211</td>\n",
              "      <td>...</td>\n",
              "      <td>-0.038649</td>\n",
              "      <td>-0.037998</td>\n",
              "      <td>-0.036509</td>\n",
              "      <td>-0.035064</td>\n",
              "      <td>-0.036905</td>\n",
              "      <td>-0.035263</td>\n",
              "      <td>-0.038798</td>\n",
              "      <td>-0.038993</td>\n",
              "      <td>-0.037434</td>\n",
              "      <td>-0.035509</td>\n",
              "    </tr>\n",
              "  </tbody>\n",
              "</table>\n",
              "<p>5 rows × 3650 columns</p>\n",
              "</div>\n",
              "      <button class=\"colab-df-convert\" onclick=\"convertToInteractive('df-9367887c-dc87-4907-930a-bc5c4ab6643e')\"\n",
              "              title=\"Convert this dataframe to an interactive table.\"\n",
              "              style=\"display:none;\">\n",
              "        \n",
              "  <svg xmlns=\"http://www.w3.org/2000/svg\" height=\"24px\"viewBox=\"0 0 24 24\"\n",
              "       width=\"24px\">\n",
              "    <path d=\"M0 0h24v24H0V0z\" fill=\"none\"/>\n",
              "    <path d=\"M18.56 5.44l.94 2.06.94-2.06 2.06-.94-2.06-.94-.94-2.06-.94 2.06-2.06.94zm-11 1L8.5 8.5l.94-2.06 2.06-.94-2.06-.94L8.5 2.5l-.94 2.06-2.06.94zm10 10l.94 2.06.94-2.06 2.06-.94-2.06-.94-.94-2.06-.94 2.06-2.06.94z\"/><path d=\"M17.41 7.96l-1.37-1.37c-.4-.4-.92-.59-1.43-.59-.52 0-1.04.2-1.43.59L10.3 9.45l-7.72 7.72c-.78.78-.78 2.05 0 2.83L4 21.41c.39.39.9.59 1.41.59.51 0 1.02-.2 1.41-.59l7.78-7.78 2.81-2.81c.8-.78.8-2.07 0-2.86zM5.41 20L4 18.59l7.72-7.72 1.47 1.35L5.41 20z\"/>\n",
              "  </svg>\n",
              "      </button>\n",
              "      \n",
              "  <style>\n",
              "    .colab-df-container {\n",
              "      display:flex;\n",
              "      flex-wrap:wrap;\n",
              "      gap: 12px;\n",
              "    }\n",
              "\n",
              "    .colab-df-convert {\n",
              "      background-color: #E8F0FE;\n",
              "      border: none;\n",
              "      border-radius: 50%;\n",
              "      cursor: pointer;\n",
              "      display: none;\n",
              "      fill: #1967D2;\n",
              "      height: 32px;\n",
              "      padding: 0 0 0 0;\n",
              "      width: 32px;\n",
              "    }\n",
              "\n",
              "    .colab-df-convert:hover {\n",
              "      background-color: #E2EBFA;\n",
              "      box-shadow: 0px 1px 2px rgba(60, 64, 67, 0.3), 0px 1px 3px 1px rgba(60, 64, 67, 0.15);\n",
              "      fill: #174EA6;\n",
              "    }\n",
              "\n",
              "    [theme=dark] .colab-df-convert {\n",
              "      background-color: #3B4455;\n",
              "      fill: #D2E3FC;\n",
              "    }\n",
              "\n",
              "    [theme=dark] .colab-df-convert:hover {\n",
              "      background-color: #434B5C;\n",
              "      box-shadow: 0px 1px 3px 1px rgba(0, 0, 0, 0.15);\n",
              "      filter: drop-shadow(0px 1px 2px rgba(0, 0, 0, 0.3));\n",
              "      fill: #FFFFFF;\n",
              "    }\n",
              "  </style>\n",
              "\n",
              "      <script>\n",
              "        const buttonEl =\n",
              "          document.querySelector('#df-9367887c-dc87-4907-930a-bc5c4ab6643e button.colab-df-convert');\n",
              "        buttonEl.style.display =\n",
              "          google.colab.kernel.accessAllowed ? 'block' : 'none';\n",
              "\n",
              "        async function convertToInteractive(key) {\n",
              "          const element = document.querySelector('#df-9367887c-dc87-4907-930a-bc5c4ab6643e');\n",
              "          const dataTable =\n",
              "            await google.colab.kernel.invokeFunction('convertToInteractive',\n",
              "                                                     [key], {});\n",
              "          if (!dataTable) return;\n",
              "\n",
              "          const docLinkHtml = 'Like what you see? Visit the ' +\n",
              "            '<a target=\"_blank\" href=https://colab.research.google.com/notebooks/data_table.ipynb>data table notebook</a>'\n",
              "            + ' to learn more about interactive tables.';\n",
              "          element.innerHTML = '';\n",
              "          dataTable['output_type'] = 'display_data';\n",
              "          await google.colab.output.renderOutput(dataTable, element);\n",
              "          const docLink = document.createElement('div');\n",
              "          docLink.innerHTML = docLinkHtml;\n",
              "          element.appendChild(docLink);\n",
              "        }\n",
              "      </script>\n",
              "    </div>\n",
              "  </div>\n",
              "  "
            ]
          },
          "metadata": {},
          "execution_count": 21
        }
      ]
    },
    {
      "cell_type": "code",
      "source": [
        "df.info() "
      ],
      "metadata": {
        "colab": {
          "base_uri": "https://localhost:8080/"
        },
        "id": "bYA2wHcHWKg7",
        "outputId": "21653a34-c9e1-4cab-fee9-4cc6fb9e0ae5"
      },
      "execution_count": 20,
      "outputs": [
        {
          "output_type": "stream",
          "name": "stdout",
          "text": [
            "<class 'pandas.core.frame.DataFrame'>\n",
            "RangeIndex: 354 entries, 0 to 353\n",
            "Columns: 3650 entries, 2018-10-25 10:32:04.789000 to -0.035545\n",
            "dtypes: float64(3648), int64(1), object(1)\n",
            "memory usage: 9.9+ MB\n"
          ]
        }
      ]
    },
    {
      "cell_type": "code",
      "source": [
        "df.describe()"
      ],
      "metadata": {
        "colab": {
          "base_uri": "https://localhost:8080/",
          "height": 393
        },
        "id": "b_nM6VyZWLs9",
        "outputId": "2141ad42-3bdb-49c8-88e4-d6c8987a8845"
      },
      "execution_count": 19,
      "outputs": [
        {
          "output_type": "execute_result",
          "data": {
            "text/plain": [
              "       1540456324789    0.329672  0.329672.1  0.329672.2    0.090294  \\\n",
              "count   3.540000e+02  354.000000  354.000000  354.000000  354.000000   \n",
              "mean    1.540456e+12    0.409432    0.409432    0.409432    0.120841   \n",
              "std     8.652186e+03    0.327875    0.327875    0.327875    0.226053   \n",
              "min     1.540456e+12   -0.243277   -0.243277   -0.243277   -0.504316   \n",
              "25%     1.540456e+12    0.103348    0.103348    0.103348   -0.016997   \n",
              "50%     1.540456e+12    0.330950    0.330950    0.330950    0.076220   \n",
              "75%     1.540456e+12    0.844298    0.844298    0.844298    0.213519   \n",
              "max     1.540456e+12    0.871232    0.871232    0.871232    2.056905   \n",
              "\n",
              "        -0.716926   -1.829304    -0.68633   -0.428776    1.740363  ...  \\\n",
              "count  354.000000  354.000000  354.000000  354.000000  354.000000  ...   \n",
              "mean    -0.331862   -1.136460   -0.271959    0.037477   -0.031759  ...   \n",
              "std      0.368452    0.926719    0.318357    0.331218    0.751415  ...   \n",
              "min     -0.879836   -2.446382   -0.772345   -0.629352   -0.809866  ...   \n",
              "25%     -0.598499   -1.977705   -0.483420   -0.003059   -0.201643  ...   \n",
              "50%     -0.424603   -1.460518   -0.339107   -0.000000   -0.000000  ...   \n",
              "75%     -0.123570   -0.000000   -0.113877    0.016706   -0.000000  ...   \n",
              "max      1.344611    0.301030    1.797614    2.025306   12.746800  ...   \n",
              "\n",
              "        -0.038483   -0.039623    -0.03692   -0.037309   -0.037299   -0.037476  \\\n",
              "count  354.000000  354.000000  354.000000  354.000000  354.000000  354.000000   \n",
              "mean    -0.037703   -0.037616   -0.036954   -0.035218   -0.037009   -0.036700   \n",
              "std      0.001613    0.001572    0.001650    0.001572    0.001524    0.001573   \n",
              "min     -0.041032   -0.040494   -0.039786   -0.039203   -0.040537   -0.040524   \n",
              "25%     -0.038461   -0.038403   -0.037885   -0.036050   -0.037729   -0.037508   \n",
              "50%     -0.037731   -0.037726   -0.037001   -0.035262   -0.037116   -0.036718   \n",
              "75%     -0.037018   -0.036932   -0.036270   -0.034528   -0.036314   -0.035966   \n",
              "max     -0.016370   -0.016801   -0.014841   -0.014077   -0.017539   -0.015907   \n",
              "\n",
              "        -0.036856   -0.036853     -0.0391   -0.035545  \n",
              "count  354.000000  354.000000  354.000000  354.000000  \n",
              "mean    -0.037108   -0.036634   -0.037720   -0.035370  \n",
              "std      0.001651    0.001626    0.001545    0.001538  \n",
              "min     -0.040304   -0.039905   -0.040929   -0.038231  \n",
              "25%     -0.037931   -0.037546   -0.038605   -0.036165  \n",
              "50%     -0.037195   -0.036683   -0.037783   -0.035421  \n",
              "75%     -0.036284   -0.035850   -0.036983   -0.034660  \n",
              "max     -0.016059   -0.015445   -0.016981   -0.014757  \n",
              "\n",
              "[8 rows x 3649 columns]"
            ],
            "text/html": [
              "\n",
              "  <div id=\"df-7eda8948-8202-4485-820b-73b4a49df3c8\">\n",
              "    <div class=\"colab-df-container\">\n",
              "      <div>\n",
              "<style scoped>\n",
              "    .dataframe tbody tr th:only-of-type {\n",
              "        vertical-align: middle;\n",
              "    }\n",
              "\n",
              "    .dataframe tbody tr th {\n",
              "        vertical-align: top;\n",
              "    }\n",
              "\n",
              "    .dataframe thead th {\n",
              "        text-align: right;\n",
              "    }\n",
              "</style>\n",
              "<table border=\"1\" class=\"dataframe\">\n",
              "  <thead>\n",
              "    <tr style=\"text-align: right;\">\n",
              "      <th></th>\n",
              "      <th>1540456324789</th>\n",
              "      <th>0.329672</th>\n",
              "      <th>0.329672.1</th>\n",
              "      <th>0.329672.2</th>\n",
              "      <th>0.090294</th>\n",
              "      <th>-0.716926</th>\n",
              "      <th>-1.829304</th>\n",
              "      <th>-0.68633</th>\n",
              "      <th>-0.428776</th>\n",
              "      <th>1.740363</th>\n",
              "      <th>...</th>\n",
              "      <th>-0.038483</th>\n",
              "      <th>-0.039623</th>\n",
              "      <th>-0.03692</th>\n",
              "      <th>-0.037309</th>\n",
              "      <th>-0.037299</th>\n",
              "      <th>-0.037476</th>\n",
              "      <th>-0.036856</th>\n",
              "      <th>-0.036853</th>\n",
              "      <th>-0.0391</th>\n",
              "      <th>-0.035545</th>\n",
              "    </tr>\n",
              "  </thead>\n",
              "  <tbody>\n",
              "    <tr>\n",
              "      <th>count</th>\n",
              "      <td>3.540000e+02</td>\n",
              "      <td>354.000000</td>\n",
              "      <td>354.000000</td>\n",
              "      <td>354.000000</td>\n",
              "      <td>354.000000</td>\n",
              "      <td>354.000000</td>\n",
              "      <td>354.000000</td>\n",
              "      <td>354.000000</td>\n",
              "      <td>354.000000</td>\n",
              "      <td>354.000000</td>\n",
              "      <td>...</td>\n",
              "      <td>354.000000</td>\n",
              "      <td>354.000000</td>\n",
              "      <td>354.000000</td>\n",
              "      <td>354.000000</td>\n",
              "      <td>354.000000</td>\n",
              "      <td>354.000000</td>\n",
              "      <td>354.000000</td>\n",
              "      <td>354.000000</td>\n",
              "      <td>354.000000</td>\n",
              "      <td>354.000000</td>\n",
              "    </tr>\n",
              "    <tr>\n",
              "      <th>mean</th>\n",
              "      <td>1.540456e+12</td>\n",
              "      <td>0.409432</td>\n",
              "      <td>0.409432</td>\n",
              "      <td>0.409432</td>\n",
              "      <td>0.120841</td>\n",
              "      <td>-0.331862</td>\n",
              "      <td>-1.136460</td>\n",
              "      <td>-0.271959</td>\n",
              "      <td>0.037477</td>\n",
              "      <td>-0.031759</td>\n",
              "      <td>...</td>\n",
              "      <td>-0.037703</td>\n",
              "      <td>-0.037616</td>\n",
              "      <td>-0.036954</td>\n",
              "      <td>-0.035218</td>\n",
              "      <td>-0.037009</td>\n",
              "      <td>-0.036700</td>\n",
              "      <td>-0.037108</td>\n",
              "      <td>-0.036634</td>\n",
              "      <td>-0.037720</td>\n",
              "      <td>-0.035370</td>\n",
              "    </tr>\n",
              "    <tr>\n",
              "      <th>std</th>\n",
              "      <td>8.652186e+03</td>\n",
              "      <td>0.327875</td>\n",
              "      <td>0.327875</td>\n",
              "      <td>0.327875</td>\n",
              "      <td>0.226053</td>\n",
              "      <td>0.368452</td>\n",
              "      <td>0.926719</td>\n",
              "      <td>0.318357</td>\n",
              "      <td>0.331218</td>\n",
              "      <td>0.751415</td>\n",
              "      <td>...</td>\n",
              "      <td>0.001613</td>\n",
              "      <td>0.001572</td>\n",
              "      <td>0.001650</td>\n",
              "      <td>0.001572</td>\n",
              "      <td>0.001524</td>\n",
              "      <td>0.001573</td>\n",
              "      <td>0.001651</td>\n",
              "      <td>0.001626</td>\n",
              "      <td>0.001545</td>\n",
              "      <td>0.001538</td>\n",
              "    </tr>\n",
              "    <tr>\n",
              "      <th>min</th>\n",
              "      <td>1.540456e+12</td>\n",
              "      <td>-0.243277</td>\n",
              "      <td>-0.243277</td>\n",
              "      <td>-0.243277</td>\n",
              "      <td>-0.504316</td>\n",
              "      <td>-0.879836</td>\n",
              "      <td>-2.446382</td>\n",
              "      <td>-0.772345</td>\n",
              "      <td>-0.629352</td>\n",
              "      <td>-0.809866</td>\n",
              "      <td>...</td>\n",
              "      <td>-0.041032</td>\n",
              "      <td>-0.040494</td>\n",
              "      <td>-0.039786</td>\n",
              "      <td>-0.039203</td>\n",
              "      <td>-0.040537</td>\n",
              "      <td>-0.040524</td>\n",
              "      <td>-0.040304</td>\n",
              "      <td>-0.039905</td>\n",
              "      <td>-0.040929</td>\n",
              "      <td>-0.038231</td>\n",
              "    </tr>\n",
              "    <tr>\n",
              "      <th>25%</th>\n",
              "      <td>1.540456e+12</td>\n",
              "      <td>0.103348</td>\n",
              "      <td>0.103348</td>\n",
              "      <td>0.103348</td>\n",
              "      <td>-0.016997</td>\n",
              "      <td>-0.598499</td>\n",
              "      <td>-1.977705</td>\n",
              "      <td>-0.483420</td>\n",
              "      <td>-0.003059</td>\n",
              "      <td>-0.201643</td>\n",
              "      <td>...</td>\n",
              "      <td>-0.038461</td>\n",
              "      <td>-0.038403</td>\n",
              "      <td>-0.037885</td>\n",
              "      <td>-0.036050</td>\n",
              "      <td>-0.037729</td>\n",
              "      <td>-0.037508</td>\n",
              "      <td>-0.037931</td>\n",
              "      <td>-0.037546</td>\n",
              "      <td>-0.038605</td>\n",
              "      <td>-0.036165</td>\n",
              "    </tr>\n",
              "    <tr>\n",
              "      <th>50%</th>\n",
              "      <td>1.540456e+12</td>\n",
              "      <td>0.330950</td>\n",
              "      <td>0.330950</td>\n",
              "      <td>0.330950</td>\n",
              "      <td>0.076220</td>\n",
              "      <td>-0.424603</td>\n",
              "      <td>-1.460518</td>\n",
              "      <td>-0.339107</td>\n",
              "      <td>-0.000000</td>\n",
              "      <td>-0.000000</td>\n",
              "      <td>...</td>\n",
              "      <td>-0.037731</td>\n",
              "      <td>-0.037726</td>\n",
              "      <td>-0.037001</td>\n",
              "      <td>-0.035262</td>\n",
              "      <td>-0.037116</td>\n",
              "      <td>-0.036718</td>\n",
              "      <td>-0.037195</td>\n",
              "      <td>-0.036683</td>\n",
              "      <td>-0.037783</td>\n",
              "      <td>-0.035421</td>\n",
              "    </tr>\n",
              "    <tr>\n",
              "      <th>75%</th>\n",
              "      <td>1.540456e+12</td>\n",
              "      <td>0.844298</td>\n",
              "      <td>0.844298</td>\n",
              "      <td>0.844298</td>\n",
              "      <td>0.213519</td>\n",
              "      <td>-0.123570</td>\n",
              "      <td>-0.000000</td>\n",
              "      <td>-0.113877</td>\n",
              "      <td>0.016706</td>\n",
              "      <td>-0.000000</td>\n",
              "      <td>...</td>\n",
              "      <td>-0.037018</td>\n",
              "      <td>-0.036932</td>\n",
              "      <td>-0.036270</td>\n",
              "      <td>-0.034528</td>\n",
              "      <td>-0.036314</td>\n",
              "      <td>-0.035966</td>\n",
              "      <td>-0.036284</td>\n",
              "      <td>-0.035850</td>\n",
              "      <td>-0.036983</td>\n",
              "      <td>-0.034660</td>\n",
              "    </tr>\n",
              "    <tr>\n",
              "      <th>max</th>\n",
              "      <td>1.540456e+12</td>\n",
              "      <td>0.871232</td>\n",
              "      <td>0.871232</td>\n",
              "      <td>0.871232</td>\n",
              "      <td>2.056905</td>\n",
              "      <td>1.344611</td>\n",
              "      <td>0.301030</td>\n",
              "      <td>1.797614</td>\n",
              "      <td>2.025306</td>\n",
              "      <td>12.746800</td>\n",
              "      <td>...</td>\n",
              "      <td>-0.016370</td>\n",
              "      <td>-0.016801</td>\n",
              "      <td>-0.014841</td>\n",
              "      <td>-0.014077</td>\n",
              "      <td>-0.017539</td>\n",
              "      <td>-0.015907</td>\n",
              "      <td>-0.016059</td>\n",
              "      <td>-0.015445</td>\n",
              "      <td>-0.016981</td>\n",
              "      <td>-0.014757</td>\n",
              "    </tr>\n",
              "  </tbody>\n",
              "</table>\n",
              "<p>8 rows × 3649 columns</p>\n",
              "</div>\n",
              "      <button class=\"colab-df-convert\" onclick=\"convertToInteractive('df-7eda8948-8202-4485-820b-73b4a49df3c8')\"\n",
              "              title=\"Convert this dataframe to an interactive table.\"\n",
              "              style=\"display:none;\">\n",
              "        \n",
              "  <svg xmlns=\"http://www.w3.org/2000/svg\" height=\"24px\"viewBox=\"0 0 24 24\"\n",
              "       width=\"24px\">\n",
              "    <path d=\"M0 0h24v24H0V0z\" fill=\"none\"/>\n",
              "    <path d=\"M18.56 5.44l.94 2.06.94-2.06 2.06-.94-2.06-.94-.94-2.06-.94 2.06-2.06.94zm-11 1L8.5 8.5l.94-2.06 2.06-.94-2.06-.94L8.5 2.5l-.94 2.06-2.06.94zm10 10l.94 2.06.94-2.06 2.06-.94-2.06-.94-.94-2.06-.94 2.06-2.06.94z\"/><path d=\"M17.41 7.96l-1.37-1.37c-.4-.4-.92-.59-1.43-.59-.52 0-1.04.2-1.43.59L10.3 9.45l-7.72 7.72c-.78.78-.78 2.05 0 2.83L4 21.41c.39.39.9.59 1.41.59.51 0 1.02-.2 1.41-.59l7.78-7.78 2.81-2.81c.8-.78.8-2.07 0-2.86zM5.41 20L4 18.59l7.72-7.72 1.47 1.35L5.41 20z\"/>\n",
              "  </svg>\n",
              "      </button>\n",
              "      \n",
              "  <style>\n",
              "    .colab-df-container {\n",
              "      display:flex;\n",
              "      flex-wrap:wrap;\n",
              "      gap: 12px;\n",
              "    }\n",
              "\n",
              "    .colab-df-convert {\n",
              "      background-color: #E8F0FE;\n",
              "      border: none;\n",
              "      border-radius: 50%;\n",
              "      cursor: pointer;\n",
              "      display: none;\n",
              "      fill: #1967D2;\n",
              "      height: 32px;\n",
              "      padding: 0 0 0 0;\n",
              "      width: 32px;\n",
              "    }\n",
              "\n",
              "    .colab-df-convert:hover {\n",
              "      background-color: #E2EBFA;\n",
              "      box-shadow: 0px 1px 2px rgba(60, 64, 67, 0.3), 0px 1px 3px 1px rgba(60, 64, 67, 0.15);\n",
              "      fill: #174EA6;\n",
              "    }\n",
              "\n",
              "    [theme=dark] .colab-df-convert {\n",
              "      background-color: #3B4455;\n",
              "      fill: #D2E3FC;\n",
              "    }\n",
              "\n",
              "    [theme=dark] .colab-df-convert:hover {\n",
              "      background-color: #434B5C;\n",
              "      box-shadow: 0px 1px 3px 1px rgba(0, 0, 0, 0.15);\n",
              "      filter: drop-shadow(0px 1px 2px rgba(0, 0, 0, 0.3));\n",
              "      fill: #FFFFFF;\n",
              "    }\n",
              "  </style>\n",
              "\n",
              "      <script>\n",
              "        const buttonEl =\n",
              "          document.querySelector('#df-7eda8948-8202-4485-820b-73b4a49df3c8 button.colab-df-convert');\n",
              "        buttonEl.style.display =\n",
              "          google.colab.kernel.accessAllowed ? 'block' : 'none';\n",
              "\n",
              "        async function convertToInteractive(key) {\n",
              "          const element = document.querySelector('#df-7eda8948-8202-4485-820b-73b4a49df3c8');\n",
              "          const dataTable =\n",
              "            await google.colab.kernel.invokeFunction('convertToInteractive',\n",
              "                                                     [key], {});\n",
              "          if (!dataTable) return;\n",
              "\n",
              "          const docLinkHtml = 'Like what you see? Visit the ' +\n",
              "            '<a target=\"_blank\" href=https://colab.research.google.com/notebooks/data_table.ipynb>data table notebook</a>'\n",
              "            + ' to learn more about interactive tables.';\n",
              "          element.innerHTML = '';\n",
              "          dataTable['output_type'] = 'display_data';\n",
              "          await google.colab.output.renderOutput(dataTable, element);\n",
              "          const docLink = document.createElement('div');\n",
              "          docLink.innerHTML = docLinkHtml;\n",
              "          element.appendChild(docLink);\n",
              "        }\n",
              "      </script>\n",
              "    </div>\n",
              "  </div>\n",
              "  "
            ]
          },
          "metadata": {},
          "execution_count": 19
        }
      ]
    },
    {
      "cell_type": "code",
      "source": [
        ""
      ],
      "metadata": {
        "colab": {
          "base_uri": "https://localhost:8080/",
          "height": 136
        },
        "id": "v8DNEYQkWdEr",
        "outputId": "30cbebd3-7746-4a76-d5fa-e55b6122f73d"
      },
      "execution_count": 24,
      "outputs": [
        {
          "output_type": "error",
          "ename": "SyntaxError",
          "evalue": "ignored",
          "traceback": [
            "\u001b[0;36m  File \u001b[0;32m\"<ipython-input-24-dcea301b4a37>\"\u001b[0;36m, line \u001b[0;32m2\u001b[0m\n\u001b[0;31m    df[5]pd.hist()\u001b[0m\n\u001b[0m          ^\u001b[0m\n\u001b[0;31mSyntaxError\u001b[0m\u001b[0;31m:\u001b[0m invalid syntax\n"
          ]
        }
      ]
    },
    {
      "cell_type": "markdown",
      "source": [
        "https://pandas.pydata.org/docs/index.html"
      ],
      "metadata": {
        "id": "dvpxZ1oFXBik"
      }
    },
    {
      "cell_type": "markdown",
      "source": [
        "# Notebook 3"
      ],
      "metadata": {
        "id": "EiK1KGlSXD0l"
      }
    },
    {
      "cell_type": "code",
      "source": [
        ""
      ],
      "metadata": {
        "id": "tjPsxtvRXDOG"
      },
      "execution_count": null,
      "outputs": []
    }
  ]
}