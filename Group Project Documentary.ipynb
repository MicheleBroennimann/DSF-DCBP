{
  "nbformat": 4,
  "nbformat_minor": 0,
  "metadata": {
    "colab": {
      "name": "Untitled2.ipynb",
      "provenance": [],
      "authorship_tag": "ABX9TyNNtQDVaCYgQZvsjK494M+W",
      "include_colab_link": true
    },
    "kernelspec": {
      "name": "python3",
      "display_name": "Python 3"
    },
    "language_info": {
      "name": "python"
    }
  },
  "cells": [
    {
      "cell_type": "markdown",
      "metadata": {
        "id": "view-in-github",
        "colab_type": "text"
      },
      "source": [
        "<a href=\"https://colab.research.google.com/github/MicheleBroennimann/DSF-DCBP/blob/main/Group%20Project%20Documentary.ipynb\" target=\"_parent\"><img src=\"https://colab.research.google.com/assets/colab-badge.svg\" alt=\"Open In Colab\"/></a>"
      ]
    },
    {
      "cell_type": "code",
      "execution_count": null,
      "metadata": {
        "id": "KAo7n3DxwZQv"
      },
      "outputs": [],
      "source": [
        ""
      ]
    },
    {
      "cell_type": "markdown",
      "source": [
        "# **Documentation of Group Project DSF**\n",
        "*Johanna Feuchter, Michèle Brönnimann*"
      ],
      "metadata": {
        "id": "X8NMHqpZwaOR"
      }
    },
    {
      "cell_type": "markdown",
      "source": [
        "# Setup\n",
        "Obtain access to Chemzilla and Ubelix as well as all the described software.\n",
        "To use ssh from a windows computer we first installed PuTTY:\n",
        "https://www.putty.org/\n",
        "We used the MSI (Windows):\n",
        "64-bit x86: putty-64bit-0.76-installer.msi\n",
        "\n",
        "Secondly we downloaded the FileZilla Application:\n",
        "https://filezilla-project.org/\n"
      ],
      "metadata": {
        "id": "My4YzTPHw1bk"
      }
    },
    {
      "cell_type": "markdown",
      "source": [
        "https://cheatography.com/davechild/cheat-sheets/linux-command-line/\n",
        "\n",
        "--> very usefull cheatsheet for linux"
      ],
      "metadata": {
        "id": "jGIehJOkxulj"
      }
    }
  ]
}